{
  "nbformat": 4,
  "nbformat_minor": 0,
  "metadata": {
    "colab": {
      "name": "hacks.ipynb",
      "provenance": [],
      "collapsed_sections": []
    },
    "kernelspec": {
      "name": "python3",
      "display_name": "Python 3"
    },
    "language_info": {
      "name": "python"
    }
  },
  "cells": [
    {
      "cell_type": "markdown",
      "metadata": {
        "id": "UjTRkdjTKQzO"
      },
      "source": [
        "##**1. Increase Google Colab RAM**"
      ]
    },
    {
      "cell_type": "markdown",
      "metadata": {
        "id": "bRgNL1zHI_Un"
      },
      "source": [
        "#### Wait for Google Colab to crash. As soon as it crashes due to a lack of RAM, it asks if you want more RAM:\n",
        "\n",
        "#### Now, click on Get more RAM  and you will see another popup:\n",
        "\n",
        "#### Just click on the YES button:"
      ]
    },
    {
      "cell_type": "code",
      "metadata": {
        "id": "-_tbpla7I59S"
      },
      "source": [
        "i = []\n",
        "while(True):\n",
        "    i.append('a')"
      ],
      "execution_count": null,
      "outputs": []
    },
    {
      "cell_type": "markdown",
      "metadata": {
        "id": "-uBYrwN9JVKV"
      },
      "source": [
        "## **2. Stop Google Colab From Disconnecting**"
      ]
    },
    {
      "cell_type": "markdown",
      "metadata": {
        "id": "K0eV5zksJhsl"
      },
      "source": [
        "#### Just open your Chrome DevTools by pressing F12 or Ctrl+Shift+I on Linux and run the following JavaScript code in your console:"
      ]
    },
    {
      "cell_type": "code",
      "metadata": {
        "id": "ubrSlkENJdzR"
      },
      "source": [
        "function KeepClicking(){\n",
        "   console.log(\"Clicking\");\n",
        "   document.querySelector(\"colab-toolbar-button#connect\").click()\n",
        "}setInterval(KeepClicking,60000)"
      ],
      "execution_count": null,
      "outputs": []
    }
  ]
}